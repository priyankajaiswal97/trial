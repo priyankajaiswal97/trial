{
  "nbformat": 4,
  "nbformat_minor": 0,
  "metadata": {
    "colab": {
      "name": "First trial.ipynb",
      "provenance": [],
      "collapsed_sections": [],
      "authorship_tag": "ABX9TyOGkgZjK3iW0siTYsGtI6jX",
      "include_colab_link": true
    },
    "kernelspec": {
      "name": "python3",
      "display_name": "Python 3"
    }
  },
  "cells": [
    {
      "cell_type": "markdown",
      "metadata": {
        "id": "view-in-github",
        "colab_type": "text"
      },
      "source": [
        "<a href=\"https://colab.research.google.com/github/priyankajaiswal97/trial/blob/master/First_trial.ipynb\" target=\"_parent\"><img src=\"https://colab.research.google.com/assets/colab-badge.svg\" alt=\"Open In Colab\"/></a>"
      ]
    },
    {
      "cell_type": "markdown",
      "metadata": {
        "id": "YLMCWFMWRdry"
      },
      "source": [
        "This is a program snippet"
      ]
    },
    {
      "cell_type": "code",
      "metadata": {
        "id": "yNpCUhIAPW2-",
        "outputId": "a1f38fea-6454-4b9a-fa86-4db5f2abd489",
        "colab": {
          "base_uri": "https://localhost:8080/",
          "height": 51
        }
      },
      "source": [
        "a=10\n",
        "b=5.7\n",
        "c=\"hi this is Priyanka\"\n",
        "sum=a+b\n",
        "print(\"the sum of two number are\",sum)\n",
        "print(c)"
      ],
      "execution_count": null,
      "outputs": [
        {
          "output_type": "stream",
          "text": [
            "the sum of two number are 15.7\n",
            "hi this is Priyanka\n"
          ],
          "name": "stdout"
        }
      ]
    }
  ]
}